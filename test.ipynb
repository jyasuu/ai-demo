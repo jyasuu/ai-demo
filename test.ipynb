{
 "cells": [
  {
   "cell_type": "code",
   "execution_count": null,
   "metadata": {},
   "outputs": [
    {
     "name": "stdout",
     "output_type": "stream",
     "text": [
      "{\n",
      "  \"id\": \"gen-1740821947-Qje0JQgW81YOm5jldkVr\",\n",
      "  \"provider\": \"Google\",\n",
      "  \"model\": \"google/gemini-2.0-flash-lite-preview-02-05\",\n",
      "  \"object\": \"chat.completion\",\n",
      "  \"created\": 1740821947,\n",
      "  \"choices\": [\n",
      "    {\n",
      "      \"logprobs\": null,\n",
      "      \"finish_reason\": \"stop\",\n",
      "      \"native_finish_reason\": \"STOP\",\n",
      "      \"index\": 0,\n",
      "      \"message\": {\n",
      "        \"role\": \"assistant\",\n",
      "        \"content\": \"The meaning of life is a question that has plagued humanity for as long as we've been able to ponder our existence. There's no single, universally accepted answer, and that's part of what makes it so fascinating. Here's a breakdown of perspectives, rather than a definitive answer:\\n\\n**Different Approaches to the Meaning of Life:**\\n\\n*   **Philosophical Perspectives:**\\n    *   **Nihilism:** This view suggests that life is inherently without objective meaning or purpose. There's no inherent truth or value.\\n    *   **Existentialism:** This emphasizes individual freedom and responsibility. We are born without a pre-ordained purpose and must create our own meaning through our choices and actions. We define ourselves through what we do. Philosophers like Jean-Paul Sartre and Albert Camus are prominent figures.\\n    *   **Absurdism:** This recognizes the conflict between our human desire for meaning and the apparent meaninglessness of the universe. It encourages embracing the absurdity and finding joy and meaning in the face of it. Albert Camus is also associated with this perspective.\\n    *   **Hedonism:** The pursuit of pleasure and avoidance of pain is seen as the primary goal.\\n    *   **Stoicism:** Focuses on virtue, reason, and acceptance of what we cannot control as the path to a meaningful life.\\n    *   **Utilitarianism:** Actions are moral if they produce the greatest good for the greatest number of people. Meaning is found in contributing to the well-being of others.\\n*   **Religious and Spiritual Perspectives:**\\n    *   **Divine Purpose:** Many religions believe that life has a purpose ordained by a higher power (God, gods, or a divine force). This might involve serving, worshipping, achieving enlightenment, or following a set of moral principles.\\n    *   **Karma and Rebirth:** Some faiths, like Hinduism and Buddhism, believe that our actions (karma) in this life influence our future lives, leading to cycles of rebirth and the ultimate goal of liberation (moksha or nirvana).\\n    *   **Personal Relationship with the Divine:** For many, the meaning comes from connecting with the Divine through prayer, meditation, acts of service, and following certain rituals.\\n*   **Humanistic Perspectives:**\\n    *   **Self-Actualization:** The fulfillment of one's potential and unique abilities is seen as a central goal (Abraham Maslow).\\n    *   **Building Relationships and Community:** Finding meaning in love, connection, and belonging.\\n    *   **Making a Positive Impact:** Contributing to the world, helping others, and leaving a legacy.\\n    *   **Creating and Experiencing Beauty:** Engaging with art, music, nature, and other forms of beauty to enrich life.\\n*   **Scientific Perspectives:**\\n    *   **Evolutionary Biology:** From this perspective, the fundamental meaning of life is survival and reproduction. Our behaviors and drives are shaped by natural selection to ensure the continuation of our genes.\\n    *   **Cosmological Perspective:** Ultimately, our lives may seem trivial in the vastness of the universe. Science points to no inherent purpose, but the human search for meaning can be seen as a uniquely human endeavor.\\n\\n**In Conclusion:**\\n\\n*   **It's Personal:** The meaning of life is often a deeply personal question answered through individual exploration, experience, and reflection.\\n*   **It Can Evolve:** Your understanding of the meaning of life may change over time as you grow and evolve.\\n*   **Complexity is Part of It:** The lack of a simple, universal answer doesn't mean the question is meaningless. It encourages us to think critically, explore different perspectives, and define our own values.\\n\\nThe meaning of life isn't something to be *found* like a hidden object, but rather something to be *created* through experience, reflection, and the choices we make. It can be a lifelong journey of discovery.\\n\",\n",
      "        \"refusal\": null\n",
      "      }\n",
      "    }\n",
      "  ],\n",
      "  \"usage\": {\n",
      "    \"prompt_tokens\": 7,\n",
      "    \"completion_tokens\": 812,\n",
      "    \"total_tokens\": 819\n",
      "  }\n",
      "}\n"
     ]
    }
   ],
   "source": [
    "import requests\n",
    "import json\n",
    "\n",
    "response = requests.post(\n",
    "  url=\"https://openrouter.ai/api/v1/chat/completions\",\n",
    "  headers={\n",
    "    \"Authorization\": \"Bearer \",\n",
    "    \"HTTP-Referer\": \"https://jyasuu.github.io/\", # Optional. Site URL for rankings on openrouter.ai.\n",
    "    \"X-Title\": \"Jyasu\", # Optional. Site title for rankings on openrouter.ai.\n",
    "  },\n",
    "  data=json.dumps({\n",
    "    \"model\": \"google/gemini-2.0-flash-lite-preview-02-05:free\", # Optional\n",
    "    \"messages\": [\n",
    "      {\n",
    "        \"role\": \"user\",\n",
    "        \"content\": \"What is the meaning of life?\"\n",
    "      }\n",
    "    ]\n",
    "  })\n",
    ")\n",
    "\n",
    "# Check for errors\n",
    "if response.status_code != 200:\n",
    "    print(f\"Error: {response.status_code} - {response.text}\")\n",
    "else:\n",
    "    try:\n",
    "        data = response.json()\n",
    "        print(json.dumps(data, indent=2)) # Print the JSON response with indentation for readability\n",
    "    except json.JSONDecodeError:\n",
    "        print(f\"Error: Could not decode JSON response. Response text: {response.text}\")\n",
    "\n",
    "\n"
   ]
  },
  {
   "cell_type": "code",
   "execution_count": null,
   "metadata": {},
   "outputs": [
    {
     "name": "stdout",
     "output_type": "stream",
     "text": [
      "{\n",
      "  \"id\": \"gen-1740821912-wczJxPedMGZSJPLLJxwJ\",\n",
      "  \"provider\": \"Google AI Studio\",\n",
      "  \"model\": \"google/gemini-2.0-pro-exp-02-05\",\n",
      "  \"object\": \"chat.completion\",\n",
      "  \"created\": 1740821912,\n",
      "  \"choices\": [\n",
      "    {\n",
      "      \"logprobs\": null,\n",
      "      \"finish_reason\": \"stop\",\n",
      "      \"native_finish_reason\": \"STOP\",\n",
      "      \"index\": 0,\n",
      "      \"message\": {\n",
      "        \"role\": \"assistant\",\n",
      "        \"content\": \"```json\\n{\\n  \\\"name\\\": \\\"science fair\\\",\\n  \\\"date\\\": \\\"2025/03/07\\\",\\n  \\\"participants\\\": [\\\"Alice\\\", \\\"Bob\\\"]\\n}\\n```\\n\",\n",
      "        \"refusal\": null\n",
      "      }\n",
      "    }\n",
      "  ],\n",
      "  \"usage\": {\n",
      "    \"prompt_tokens\": 69,\n",
      "    \"completion_tokens\": 42,\n",
      "    \"total_tokens\": 111\n",
      "  }\n",
      "}\n"
     ]
    }
   ],
   "source": [
    "import requests\n",
    "import json\n",
    "\n",
    "response = requests.post(\n",
    "  url=\"https://openrouter.ai/api/v1/chat/completions\",\n",
    "  headers={\n",
    "    \"Authorization\": \"Bearer \",\n",
    "    \"HTTP-Referer\": \"https://jyasuu.github.io/\", # Optional. Site URL for rankings on openrouter.ai.\n",
    "    \"X-Title\": \"Jyasu\", # Optional. Site title for rankings on openrouter.ai.\n",
    "  },\n",
    "  data=json.dumps({\n",
    "    \"model\": \"google/gemini-2.0-pro-exp-02-05:free\", # Optional\n",
    "    \"messages\": [\n",
    "        {\"role\": \"system\", \"content\": \"## Today is 2025/3/1 Saturday. \\n## Extract the event information as json. \\n## Format\\n name: event name \\n date: event date with format YYYY/MM/DD \\n participants: participant name in array \"},\n",
    "        {\"role\": \"user\", \"content\": \"Alice and Bob are going to a science fair on Friday.\"},\n",
    "    ]\n",
    "  })\n",
    ")\n",
    "\n",
    "# Check for errors\n",
    "if response.status_code != 200:\n",
    "    print(f\"Error: {response.status_code} - {response.text}\")\n",
    "else:\n",
    "    try:\n",
    "        data = response.json()\n",
    "        print(json.dumps(data, indent=2)) # Print the JSON response with indentation for readability\n",
    "    except json.JSONDecodeError:\n",
    "        print(f\"Error: Could not decode JSON response. Response text: {response.text}\")\n",
    "\n",
    "\n"
   ]
  }
 ],
 "metadata": {
  "kernelspec": {
   "display_name": "Python 3",
   "language": "python",
   "name": "python3"
  },
  "language_info": {
   "codemirror_mode": {
    "name": "ipython",
    "version": 3
   },
   "file_extension": ".py",
   "mimetype": "text/x-python",
   "name": "python",
   "nbconvert_exporter": "python",
   "pygments_lexer": "ipython3",
   "version": "3.12.9"
  }
 },
 "nbformat": 4,
 "nbformat_minor": 2
}
